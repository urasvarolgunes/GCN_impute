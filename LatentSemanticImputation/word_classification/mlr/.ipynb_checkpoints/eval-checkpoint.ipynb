{
 "cells": [
  {
   "cell_type": "code",
   "execution_count": 1,
   "metadata": {},
   "outputs": [],
   "source": [
    "from sklearn.neighbors import KNeighborsClassifier\n",
    "import numpy as np\n",
    "import pandas as pd\n",
    "\n",
    "def KNN_large(X, y, n):\n",
    "    l = len(y)\n",
    "    y_hat = []\n",
    "    \n",
    "    for i in range(0,l,20):\n",
    "        \n",
    "        batch_size = 20\n",
    "        if i + 20 >= l:\n",
    "            batch_size = l - i\n",
    "            \n",
    "        to_predict = X[i:i+batch_size, :]#.reshape(1,-1)\n",
    "        X_train = np.delete(X, np.arange(i,i + batch_size), axis = 0)\n",
    "        y_train = np.delete(y, np.arange(i,i + batch_size), axis = 0)\n",
    "    \n",
    "        neigh = KNeighborsClassifier(n_neighbors = n)\n",
    "        neigh.fit(X_train, y_train)\n",
    "        \n",
    "        y_hat.extend(neigh.predict(to_predict))\n",
    "        \n",
    "    print(\"%d-NN\" %n)\n",
    "    print(sum(np.array(y_hat) == y) / l)"
   ]
  },
  {
   "cell_type": "code",
   "execution_count": 4,
   "metadata": {
    "scrolled": false
   },
   "outputs": [],
   "source": [
    "X = pd.read_csv(\"glove20-2.csv\", index_col = 0)\n",
    "y = X['y'].values\n",
    "X = X.drop('y', axis = 1).values"
   ]
  },
  {
   "cell_type": "code",
   "execution_count": 5,
   "metadata": {},
   "outputs": [
    {
     "name": "stdout",
     "output_type": "stream",
     "text": [
      "2-NN\n",
      "0.4232649071358749\n",
      "5-NN\n",
      "0.46994134897360706\n",
      "8-NN\n",
      "0.48900293255131966\n",
      "10-NN\n",
      "0.48900293255131966\n",
      "15-NN\n",
      "0.48533724340175954\n"
     ]
    }
   ],
   "source": [
    "for n in [2,5,8,10,15]:\n",
    "    KNN_large(X,y,n)"
   ]
  },
  {
   "cell_type": "code",
   "execution_count": null,
   "metadata": {},
   "outputs": [],
   "source": []
  }
 ],
 "metadata": {
  "kernelspec": {
   "display_name": "Python 3",
   "language": "python",
   "name": "python3"
  },
  "language_info": {
   "codemirror_mode": {
    "name": "ipython",
    "version": 3
   },
   "file_extension": ".py",
   "mimetype": "text/x-python",
   "name": "python",
   "nbconvert_exporter": "python",
   "pygments_lexer": "ipython3",
   "version": "3.7.4"
  }
 },
 "nbformat": 4,
 "nbformat_minor": 2
}
