{
 "cells": [
  {
   "cell_type": "code",
   "execution_count": 2,
   "metadata": {},
   "outputs": [],
   "source": [
    "from sklearn.neighbors import KNeighborsClassifier\n",
    "import numpy as np\n",
    "import pandas as pd\n",
    "\n",
    "def KNN_large(X, y, n):\n",
    "    l = len(y)\n",
    "    y_hat = []\n",
    "    \n",
    "    for i in range(0,l,20):\n",
    "        \n",
    "        batch_size = 20\n",
    "        if i + 20 >= l:\n",
    "            batch_size = l - i\n",
    "            \n",
    "        to_predict = X[i:i+batch_size, :]#.reshape(1,-1)\n",
    "        X_train = np.delete(X, np.arange(i,i + batch_size), axis = 0)\n",
    "        y_train = np.delete(y, np.arange(i,i + batch_size), axis = 0)\n",
    "    \n",
    "        neigh = KNeighborsClassifier(n_neighbors = n)\n",
    "        neigh.fit(X_train, y_train)\n",
    "        \n",
    "        y_hat.extend(neigh.predict(to_predict))\n",
    "        \n",
    "    print(\"%d-NN\" %n)\n",
    "    print(sum(np.array(y_hat) == y) / l)"
   ]
  },
  {
   "cell_type": "code",
   "execution_count": 5,
   "metadata": {
    "scrolled": false
   },
   "outputs": [],
   "source": [
    "X = pd.read_csv(\"google20-3.csv\", index_col = 0)\n",
    "y = X['y'].values\n",
    "X = X.drop('y', axis = 1).values"
   ]
  },
  {
   "cell_type": "code",
   "execution_count": 6,
   "metadata": {},
   "outputs": [
    {
     "name": "stdout",
     "output_type": "stream",
     "text": [
      "2-NN\n",
      "0.40762463343108507\n",
      "5-NN\n",
      "0.45161290322580644\n",
      "8-NN\n",
      "0.4679863147605083\n",
      "10-NN\n",
      "0.47409579667644186\n",
      "15-NN\n",
      "0.4831378299120235\n"
     ]
    }
   ],
   "source": [
    "for n in [2,5,8,10,15]:\n",
    "    KNN_large(X,y,n)"
   ]
  },
  {
   "cell_type": "code",
   "execution_count": null,
   "metadata": {},
   "outputs": [],
   "source": []
  }
 ],
 "metadata": {
  "kernelspec": {
   "display_name": "Python 3",
   "language": "python",
   "name": "python3"
  },
  "language_info": {
   "codemirror_mode": {
    "name": "ipython",
    "version": 3
   },
   "file_extension": ".py",
   "mimetype": "text/x-python",
   "name": "python",
   "nbconvert_exporter": "python",
   "pygments_lexer": "ipython3",
   "version": "3.7.4"
  }
 },
 "nbformat": 4,
 "nbformat_minor": 2
}
